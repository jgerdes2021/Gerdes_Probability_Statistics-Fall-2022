{
  "nbformat": 4,
  "nbformat_minor": 0,
  "metadata": {
    "colab": {
      "provenance": [],
      "collapsed_sections": [],
      "authorship_tag": "ABX9TyNb3PwZvZEo0+0nZ2QstKbJ",
      "include_colab_link": true
    },
    "kernelspec": {
      "name": "python3",
      "display_name": "Python 3"
    },
    "language_info": {
      "name": "python"
    }
  },
  "cells": [
    {
      "cell_type": "markdown",
      "metadata": {
        "id": "view-in-github",
        "colab_type": "text"
      },
      "source": [
        "<a href=\"https://colab.research.google.com/github/jgerdes2021/Gerdes_Probability_Statistics-Fall-2022/blob/main/Gerdes_Stats_2022_Lab_1.ipynb\" target=\"_parent\"><img src=\"https://colab.research.google.com/assets/colab-badge.svg\" alt=\"Open In Colab\"/></a>"
      ]
    },
    {
      "cell_type": "markdown",
      "source": [
        "# Stats Notebook #1"
      ],
      "metadata": {
        "id": "nSeut0plYL0v"
      }
    },
    {
      "cell_type": "code",
      "source": [
        "#<img src (you put the URL of the image in the quotes and another > and press enter, the image will be pasted) "
      ],
      "metadata": {
        "id": "FvHpcw4EYReT"
      },
      "execution_count": null,
      "outputs": []
    },
    {
      "cell_type": "code",
      "source": [
        "#to make the image smaller, put width = 200 after the URL and the >"
      ],
      "metadata": {
        "id": "Q6e6YEnZZeTP"
      },
      "execution_count": null,
      "outputs": []
    },
    {
      "cell_type": "code",
      "source": [
        "#$x$ puts x in mathmatical form "
      ],
      "metadata": {
        "id": "ya_33fMybKXL"
      },
      "execution_count": null,
      "outputs": []
    },
    {
      "cell_type": "code",
      "source": [
        "#put the formula in dollar signs to make it an equation "
      ],
      "metadata": {
        "id": "AhLn5GuJb1LP"
      },
      "execution_count": null,
      "outputs": []
    },
    {
      "cell_type": "markdown",
      "source": [
        "$x$"
      ],
      "metadata": {
        "id": "3P_eT2z2bQY4"
      }
    },
    {
      "cell_type": "markdown",
      "source": [
        "$y = m x + b$"
      ],
      "metadata": {
        "id": "GFx_LthibS9x"
      }
    },
    {
      "cell_type": "code",
      "source": [
        "#$\\frac{a}{b}$ to put in fractions "
      ],
      "metadata": {
        "id": "zDVPp80Abrmc"
      },
      "execution_count": null,
      "outputs": []
    },
    {
      "cell_type": "markdown",
      "source": [
        "$\\frac{a}{b}$"
      ],
      "metadata": {
        "id": "PyJbDZc0bbvu"
      }
    },
    {
      "cell_type": "code",
      "source": [
        "#$a^b$ for exponents "
      ],
      "metadata": {
        "id": "QVGnAiWBcTT3"
      },
      "execution_count": null,
      "outputs": []
    },
    {
      "cell_type": "code",
      "source": [
        "# ** to display exponents "
      ],
      "metadata": {
        "id": "9iZRCJqV-jhM"
      },
      "execution_count": null,
      "outputs": []
    },
    {
      "cell_type": "markdown",
      "source": [
        "$a^b$"
      ],
      "metadata": {
        "id": "--sjWQgLcKzI"
      }
    },
    {
      "cell_type": "code",
      "source": [
        "#$f(x) = \\frac{1}{\\sigma\\sqrt{2\\pi}}e^{-\\frac{1}{2}(\\frac{x-\\mu}{\\sigma})6^2}$ for the following equation"
      ],
      "metadata": {
        "id": "erJMRcNKdFaB"
      },
      "execution_count": null,
      "outputs": []
    },
    {
      "cell_type": "markdown",
      "source": [
        "$f(x) = \\frac{1}{\\sigma\\sqrt{2\\pi}}e^{-\\frac{1}{2}(\\frac{x-\\mu}{\\sigma})6^2}$"
      ],
      "metadata": {
        "id": "ymHzhU5Fc8TH"
      }
    },
    {
      "cell_type": "markdown",
      "source": [
        "#Math Typesetting"
      ],
      "metadata": {
        "id": "ABC78EZgYUG-"
      }
    },
    {
      "cell_type": "code",
      "source": [],
      "metadata": {
        "id": "d91DRnv1ZRfG"
      },
      "execution_count": null,
      "outputs": []
    },
    {
      "cell_type": "code",
      "source": [],
      "metadata": {
        "id": "IvmHq0lrahCF"
      },
      "execution_count": null,
      "outputs": []
    },
    {
      "cell_type": "markdown",
      "source": [
        "# Exercises "
      ],
      "metadata": {
        "id": "410B965SRGkp"
      }
    },
    {
      "cell_type": "code",
      "source": [
        "import numpy as np\n",
        "import matplotlib.pyplot as plt"
      ],
      "metadata": {
        "id": "-ybTrYKLyF3s"
      },
      "execution_count": 3,
      "outputs": []
    },
    {
      "cell_type": "markdown",
      "source": [
        "y = $10x + 7$"
      ],
      "metadata": {
        "id": "7A7w9yV7AXr5"
      }
    },
    {
      "cell_type": "code",
      "source": [
        "x = np.arange(-10,10)"
      ],
      "metadata": {
        "id": "1fsJhZ09yKpg"
      },
      "execution_count": 4,
      "outputs": []
    },
    {
      "cell_type": "code",
      "source": [
        "x"
      ],
      "metadata": {
        "colab": {
          "base_uri": "https://localhost:8080/"
        },
        "id": "z85bqgLayKk9",
        "outputId": "6066952f-cfc8-4ff6-f5a5-694589fda9f8"
      },
      "execution_count": 8,
      "outputs": [
        {
          "output_type": "execute_result",
          "data": {
            "text/plain": [
              "array([-10,  -9,  -8,  -7,  -6,  -5,  -4,  -3,  -2,  -1,   0,   1,   2,\n",
              "         3,   4,   5,   6,   7,   8,   9])"
            ]
          },
          "metadata": {},
          "execution_count": 8
        }
      ]
    },
    {
      "cell_type": "code",
      "source": [
        "y = 10 * x + 7"
      ],
      "metadata": {
        "id": "HkeHFvU2yKiW"
      },
      "execution_count": 9,
      "outputs": []
    },
    {
      "cell_type": "code",
      "source": [
        "y"
      ],
      "metadata": {
        "colab": {
          "base_uri": "https://localhost:8080/"
        },
        "id": "JJh6j-JayKe1",
        "outputId": "dc95fe39-105d-4570-99c1-a3e0728029e4"
      },
      "execution_count": 11,
      "outputs": [
        {
          "output_type": "execute_result",
          "data": {
            "text/plain": [
              "array([-93, -83, -73, -63, -53, -43, -33, -23, -13,  -3,   7,  17,  27,\n",
              "        37,  47,  57,  67,  77,  87,  97])"
            ]
          },
          "metadata": {},
          "execution_count": 11
        }
      ]
    },
    {
      "cell_type": "code",
      "source": [
        "x = np.array([1,2,3,4,5,6])\n",
        "y = np.array([11,22,33,44,55,66])"
      ],
      "metadata": {
        "id": "IBK_xDqRyZ61"
      },
      "execution_count": null,
      "outputs": []
    },
    {
      "cell_type": "code",
      "source": [
        "plt.plot(x,y,'r')"
      ],
      "metadata": {
        "colab": {
          "base_uri": "https://localhost:8080/",
          "height": 282
        },
        "id": "GHlIpWRq8Wq4",
        "outputId": "5a6208c1-2cf5-4fd4-d3f5-5ec432f026fb"
      },
      "execution_count": 12,
      "outputs": [
        {
          "output_type": "execute_result",
          "data": {
            "text/plain": [
              "[<matplotlib.lines.Line2D at 0x7f27f2edabd0>]"
            ]
          },
          "metadata": {},
          "execution_count": 12
        },
        {
          "output_type": "display_data",
          "data": {
            "text/plain": [
              "<Figure size 432x288 with 1 Axes>"
            ],
            "image/png": "[encoded data removed]"
          },
          "metadata": {
            "needs_background": "light"
          }
        }
      ]
    },
    {
      "cell_type": "code",
      "source": [
        "import numpy as np\n",
        "import matplotlib.pyplot as plt"
      ],
      "metadata": {
        "id": "SOzKYbzf8bV4"
      },
      "execution_count": 13,
      "outputs": []
    },
    {
      "cell_type": "markdown",
      "source": [
        "y = $-3x -12$"
      ],
      "metadata": {
        "id": "Yl9aQESfAe4h"
      }
    },
    {
      "cell_type": "code",
      "source": [
        "x = np.arange(-10,10)"
      ],
      "metadata": {
        "id": "9W1rRrTs8fFf"
      },
      "execution_count": 14,
      "outputs": []
    },
    {
      "cell_type": "code",
      "source": [
        "y = -3 * x -12"
      ],
      "metadata": {
        "id": "oeRX_l0ryZ2o"
      },
      "execution_count": 15,
      "outputs": []
    },
    {
      "cell_type": "code",
      "source": [
        "x"
      ],
      "metadata": {
        "colab": {
          "base_uri": "https://localhost:8080/"
        },
        "id": "g9MprDbd8mBQ",
        "outputId": "47985d80-7a32-40dd-ba52-1e7343bcda18"
      },
      "execution_count": 16,
      "outputs": [
        {
          "output_type": "execute_result",
          "data": {
            "text/plain": [
              "array([-10,  -9,  -8,  -7,  -6,  -5,  -4,  -3,  -2,  -1,   0,   1,   2,\n",
              "         3,   4,   5,   6,   7,   8,   9])"
            ]
          },
          "metadata": {},
          "execution_count": 16
        }
      ]
    },
    {
      "cell_type": "code",
      "source": [
        "y"
      ],
      "metadata": {
        "colab": {
          "base_uri": "https://localhost:8080/"
        },
        "id": "pXf6WfTMyZz8",
        "outputId": "b8a74e62-7091-4aa1-e506-4482a4621aa0"
      },
      "execution_count": 17,
      "outputs": [
        {
          "output_type": "execute_result",
          "data": {
            "text/plain": [
              "array([ 18,  15,  12,   9,   6,   3,   0,  -3,  -6,  -9, -12, -15, -18,\n",
              "       -21, -24, -27, -30, -33, -36, -39])"
            ]
          },
          "metadata": {},
          "execution_count": 17
        }
      ]
    },
    {
      "cell_type": "code",
      "source": [
        "plt.plot(x,y,'g')"
      ],
      "metadata": {
        "colab": {
          "base_uri": "https://localhost:8080/",
          "height": 283
        },
        "id": "nPAKTaUk8p3Z",
        "outputId": "1227310e-0d79-407b-c8ce-6058276d8d03"
      },
      "execution_count": 18,
      "outputs": [
        {
          "output_type": "execute_result",
          "data": {
            "text/plain": [
              "[<matplotlib.lines.Line2D at 0x7f27f2965ed0>]"
            ]
          },
          "metadata": {},
          "execution_count": 18
        },
        {
          "output_type": "display_data",
          "data": {
            "text/plain": [
              "<Figure size 432x288 with 1 Axes>"
            ],
            "image/png": "[encoded data removed]"
          },
          "metadata": {
            "needs_background": "light"
          }
        }
      ]
    },
    {
      "cell_type": "code",
      "source": [
        "import numpy as np \n",
        "import matplotlib.pyplot as plt "
      ],
      "metadata": {
        "id": "89j54l-v8vJI"
      },
      "execution_count": 19,
      "outputs": []
    },
    {
      "cell_type": "markdown",
      "source": [
        "y = $sin(x)$"
      ],
      "metadata": {
        "id": "W405Wji7Auwu"
      }
    },
    {
      "cell_type": "code",
      "source": [
        "x = np.arange(-10,10)"
      ],
      "metadata": {
        "id": "mDFdb4v08x5Z"
      },
      "execution_count": 20,
      "outputs": []
    },
    {
      "cell_type": "code",
      "source": [
        "y = np.sin(x)"
      ],
      "metadata": {
        "id": "w2TvDcm4yZxW"
      },
      "execution_count": 29,
      "outputs": []
    },
    {
      "cell_type": "code",
      "source": [
        "x"
      ],
      "metadata": {
        "colab": {
          "base_uri": "https://localhost:8080/"
        },
        "id": "UBiSWKc98zcA",
        "outputId": "063e01d9-b84a-4356-da9f-b284aaadcea5"
      },
      "execution_count": 22,
      "outputs": [
        {
          "output_type": "execute_result",
          "data": {
            "text/plain": [
              "array([-10,  -9,  -8,  -7,  -6,  -5,  -4,  -3,  -2,  -1,   0,   1,   2,\n",
              "         3,   4,   5,   6,   7,   8,   9])"
            ]
          },
          "metadata": {},
          "execution_count": 22
        }
      ]
    },
    {
      "cell_type": "code",
      "source": [
        "y"
      ],
      "metadata": {
        "colab": {
          "base_uri": "https://localhost:8080/"
        },
        "id": "mtRfoq9RyZte",
        "outputId": "243ea122-45b8-4fff-92a9-6a72ba6bf05b"
      },
      "execution_count": 23,
      "outputs": [
        {
          "output_type": "execute_result",
          "data": {
            "text/plain": [
              "array([ 0.54402111, -0.41211849, -0.98935825, -0.6569866 ,  0.2794155 ,\n",
              "        0.95892427,  0.7568025 , -0.14112001, -0.90929743, -0.84147098,\n",
              "        0.        ,  0.84147098,  0.90929743,  0.14112001, -0.7568025 ,\n",
              "       -0.95892427, -0.2794155 ,  0.6569866 ,  0.98935825,  0.41211849])"
            ]
          },
          "metadata": {},
          "execution_count": 23
        }
      ]
    },
    {
      "cell_type": "code",
      "source": [
        "plt.plot(x,y,'orange')"
      ],
      "metadata": {
        "colab": {
          "base_uri": "https://localhost:8080/",
          "height": 282
        },
        "id": "WfglDmKG83sY",
        "outputId": "629935ef-1079-4ad7-b8d8-0e9f7abc39be"
      },
      "execution_count": 24,
      "outputs": [
        {
          "output_type": "execute_result",
          "data": {
            "text/plain": [
              "[<matplotlib.lines.Line2D at 0x7f27f28ed2d0>]"
            ]
          },
          "metadata": {},
          "execution_count": 24
        },
        {
          "output_type": "display_data",
          "data": {
            "text/plain": [
              "<Figure size 432x288 with 1 Axes>"
            ],
            "image/png": "[encoded data removed]"
          },
          "metadata": {
            "needs_background": "light"
          }
        }
      ]
    },
    {
      "cell_type": "code",
      "source": [
        "import numpy as np \n",
        "import matplotlib.pyplot as plt "
      ],
      "metadata": {
        "id": "G__NXp8i86vo"
      },
      "execution_count": 25,
      "outputs": []
    },
    {
      "cell_type": "markdown",
      "source": [
        "y = $e^x$ "
      ],
      "metadata": {
        "id": "6v78VP5Y_gux"
      }
    },
    {
      "cell_type": "code",
      "source": [
        "x = np.arange(-10,10)"
      ],
      "metadata": {
        "id": "9YL1iO5G89No"
      },
      "execution_count": 26,
      "outputs": []
    },
    {
      "cell_type": "code",
      "source": [
        "x"
      ],
      "metadata": {
        "colab": {
          "base_uri": "https://localhost:8080/"
        },
        "id": "MHQIwbEl9ATR",
        "outputId": "73df0773-04a8-47a5-9cc9-32a11feed4bb"
      },
      "execution_count": 27,
      "outputs": [
        {
          "output_type": "execute_result",
          "data": {
            "text/plain": [
              "array([-10,  -9,  -8,  -7,  -6,  -5,  -4,  -3,  -2,  -1,   0,   1,   2,\n",
              "         3,   4,   5,   6,   7,   8,   9])"
            ]
          },
          "metadata": {},
          "execution_count": 27
        }
      ]
    },
    {
      "cell_type": "code",
      "source": [
        "y = np.exp(x)"
      ],
      "metadata": {
        "id": "ZnalfVtUyKW5"
      },
      "execution_count": 30,
      "outputs": []
    },
    {
      "cell_type": "code",
      "source": [
        "plt.plot(x,y,'y')"
      ],
      "metadata": {
        "colab": {
          "base_uri": "https://localhost:8080/",
          "height": 282
        },
        "id": "6GUiNLUA9OuJ",
        "outputId": "3d110d97-a9c9-4e2c-8681-859e5c4a226d"
      },
      "execution_count": 31,
      "outputs": [
        {
          "output_type": "execute_result",
          "data": {
            "text/plain": [
              "[<matplotlib.lines.Line2D at 0x7f27f28681d0>]"
            ]
          },
          "metadata": {},
          "execution_count": 31
        },
        {
          "output_type": "display_data",
          "data": {
            "text/plain": [
              "<Figure size 432x288 with 1 Axes>"
            ],
            "image/png": "[encoded data removed]"
          },
          "metadata": {
            "needs_background": "light"
          }
        }
      ]
    },
    {
      "cell_type": "markdown",
      "source": [
        "y = $e^{-x^2}$"
      ],
      "metadata": {
        "id": "DR0KGUxC_qO4"
      }
    },
    {
      "cell_type": "code",
      "source": [
        "import numpy as np \n",
        "import matplotlib.pyplot as plt "
      ],
      "metadata": {
        "id": "vfGUu2i59P-B"
      },
      "execution_count": 32,
      "outputs": []
    },
    {
      "cell_type": "code",
      "source": [
        "x = np.arange(-10,10)"
      ],
      "metadata": {
        "id": "KrSVCnzP9TEI"
      },
      "execution_count": 33,
      "outputs": []
    },
    {
      "cell_type": "code",
      "source": [
        "x"
      ],
      "metadata": {
        "colab": {
          "base_uri": "https://localhost:8080/"
        },
        "id": "r5GCKi4P9W5p",
        "outputId": "bec2519f-4b4a-4d1b-a760-2ef4c7c3a88c"
      },
      "execution_count": 36,
      "outputs": [
        {
          "output_type": "execute_result",
          "data": {
            "text/plain": [
              "array([-10,  -9,  -8,  -7,  -6,  -5,  -4,  -3,  -2,  -1,   0,   1,   2,\n",
              "         3,   4,   5,   6,   7,   8,   9])"
            ]
          },
          "metadata": {},
          "execution_count": 36
        }
      ]
    },
    {
      "cell_type": "code",
      "source": [
        "y = np.exp(-x**2)"
      ],
      "metadata": {
        "id": "19o6417T9ZqA"
      },
      "execution_count": 37,
      "outputs": []
    },
    {
      "cell_type": "code",
      "source": [
        "y"
      ],
      "metadata": {
        "colab": {
          "base_uri": "https://localhost:8080/"
        },
        "id": "EaiNVVJa9ZhB",
        "outputId": "53476ce2-5659-4261-ac6c-7359e218f68d"
      },
      "execution_count": 38,
      "outputs": [
        {
          "output_type": "execute_result",
          "data": {
            "text/plain": [
              "array([3.72007598e-44, 6.63967720e-36, 1.60381089e-28, 5.24288566e-22,\n",
              "       2.31952283e-16, 1.38879439e-11, 1.12535175e-07, 1.23409804e-04,\n",
              "       1.83156389e-02, 3.67879441e-01, 1.00000000e+00, 3.67879441e-01,\n",
              "       1.83156389e-02, 1.23409804e-04, 1.12535175e-07, 1.38879439e-11,\n",
              "       2.31952283e-16, 5.24288566e-22, 1.60381089e-28, 6.63967720e-36])"
            ]
          },
          "metadata": {},
          "execution_count": 38
        }
      ]
    },
    {
      "cell_type": "code",
      "source": [
        "plt.plot(x,y,'purple')"
      ],
      "metadata": {
        "colab": {
          "base_uri": "https://localhost:8080/",
          "height": 282
        },
        "id": "eFOsWlzp9fYo",
        "outputId": "8517d876-2d97-407f-cad8-9980e3d0921b"
      },
      "execution_count": 39,
      "outputs": [
        {
          "output_type": "execute_result",
          "data": {
            "text/plain": [
              "[<matplotlib.lines.Line2D at 0x7f27f2849fd0>]"
            ]
          },
          "metadata": {},
          "execution_count": 39
        },
        {
          "output_type": "display_data",
          "data": {
            "text/plain": [
              "<Figure size 432x288 with 1 Axes>"
            ],
            "image/png": "[encoded data removed]"
          },
          "metadata": {
            "needs_background": "light"
          }
        }
      ]
    },
    {
      "cell_type": "code",
      "source": [
        "import matplotlib.pyplot as plt \n",
        "import matplotlib.tri as tri \n",
        "import numpy as np "
      ],
      "metadata": {
        "id": "ucQNKJd9nVBa"
      },
      "execution_count": null,
      "outputs": []
    },
    {
      "cell_type": "code",
      "source": [
        "# First create the x and y coordinates of the points."
      ],
      "metadata": {
        "id": "LGGy3CShM8dX"
      },
      "execution_count": null,
      "outputs": []
    },
    {
      "cell_type": "code",
      "source": [
        "n_angles = 36"
      ],
      "metadata": {
        "id": "QyXde6aTN0Kp"
      },
      "execution_count": null,
      "outputs": []
    },
    {
      "cell_type": "code",
      "source": [
        "n_radii = 8"
      ],
      "metadata": {
        "id": "kYDBv38rN2i3"
      },
      "execution_count": null,
      "outputs": []
    },
    {
      "cell_type": "code",
      "source": [
        "min_radius = 0.25"
      ],
      "metadata": {
        "id": "_ZkR2RzzN4yH"
      },
      "execution_count": null,
      "outputs": []
    },
    {
      "cell_type": "code",
      "source": [
        "radii = np.linspace(min_radius, 0.95, n_radii)"
      ],
      "metadata": {
        "id": "YML13NkCN6oA"
      },
      "execution_count": null,
      "outputs": []
    },
    {
      "cell_type": "code",
      "source": [
        "angles = np.linspace(0, 2 * np.pi, n_angles, endpoint=False)"
      ],
      "metadata": {
        "id": "_Esb3TgDN8Wf"
      },
      "execution_count": null,
      "outputs": []
    },
    {
      "cell_type": "code",
      "source": [
        "angles = np.repeat(angles[..., np.newaxis], n_radii, axis=1)"
      ],
      "metadata": {
        "id": "oHbE3s3iN-E0"
      },
      "execution_count": null,
      "outputs": []
    },
    {
      "cell_type": "code",
      "source": [
        "angles[:, 1::2] += np.pi / n_angles"
      ],
      "metadata": {
        "id": "DagLn-ivN_2p"
      },
      "execution_count": null,
      "outputs": []
    },
    {
      "cell_type": "code",
      "source": [
        "x = (radii * np.cos(angles)).flatten()"
      ],
      "metadata": {
        "id": "PnCZeHgiOBqJ"
      },
      "execution_count": null,
      "outputs": []
    },
    {
      "cell_type": "code",
      "source": [
        "y = (radii * np.sin(angles)).flatten()"
      ],
      "metadata": {
        "id": "yJyUsufxODVg"
      },
      "execution_count": null,
      "outputs": []
    },
    {
      "cell_type": "code",
      "source": [
        "z = (np.cos(radii) * np.cos(3 * angles)).flatten()\n"
      ],
      "metadata": {
        "id": "81NuUt8yOEzq"
      },
      "execution_count": null,
      "outputs": []
    },
    {
      "cell_type": "code",
      "source": [
        "# Create the Triangulation; no triangles so Delaunay triangulation created."
      ],
      "metadata": {
        "id": "5uZcK1slOGMz"
      },
      "execution_count": null,
      "outputs": []
    },
    {
      "cell_type": "code",
      "source": [
        "triang = tri.Triangulation(x, y)"
      ],
      "metadata": {
        "id": "gVRFaxiqOIAY"
      },
      "execution_count": null,
      "outputs": []
    },
    {
      "cell_type": "code",
      "source": [
        "# Mask off unwanted triangles."
      ],
      "metadata": {
        "id": "7LQoGfK3OLk8"
      },
      "execution_count": null,
      "outputs": []
    },
    {
      "cell_type": "code",
      "source": [
        "triang.set_mask(np.hypot(x[triang.triangles].mean(axis=1),\n",
        "                         y[triang.triangles].mean(axis=1))\n",
        "                < min_radius)"
      ],
      "metadata": {
        "id": "IJruODiGOqQx"
      },
      "execution_count": null,
      "outputs": []
    },
    {
      "cell_type": "code",
      "source": [
        "fig1, ax1 = plt.subplots()\n",
        "ax1.set_aspect('equal')\n",
        "tpc = ax1.tripcolor(triang, z, shading='flat')\n",
        "fig1.colorbar(tpc)\n",
        "ax1.set_title('tripcolor of Delaunay triangulation, flat shading')"
      ],
      "metadata": {
        "colab": {
          "base_uri": "https://localhost:8080/",
          "height": 298
        },
        "id": "sgaJF6ZsO2NQ",
        "outputId": "1dfe557f-133a-41a3-a69c-b4397cedd09d"
      },
      "execution_count": null,
      "outputs": [
        {
          "output_type": "execute_result",
          "data": {
            "text/plain": [
              "Text(0.5, 1.0, 'tripcolor of Delaunay triangulation, flat shading')"
            ]
          },
          "metadata": {},
          "execution_count": 28
        },
        {
          "output_type": "display_data",
          "data": {
            "text/plain": [
              "<Figure size 432x288 with 2 Axes>"
            ],
            "image/png": "[encoded data removed]"
          },
          "metadata": {
            "needs_background": "light"
          }
        }
      ]
    },
    {
      "cell_type": "code",
      "source": [
        "#creates triangular grids "
      ],
      "metadata": {
        "id": "CRglxp_yUTcT"
      },
      "execution_count": null,
      "outputs": []
    },
    {
      "cell_type": "code",
      "source": [
        "#Delaunay Triangle"
      ],
      "metadata": {
        "id": "zrZkCBJeV9qY"
      },
      "execution_count": null,
      "outputs": []
    },
    {
      "cell_type": "code",
      "source": [
        "#this trinagular grid demonstrates flat shading "
      ],
      "metadata": {
        "id": "tItOms3LUYc1"
      },
      "execution_count": null,
      "outputs": []
    },
    {
      "cell_type": "code",
      "source": [
        "fig2, ax2 = plt.subplots()\n",
        "ax2.set_aspect('equal')\n",
        "tpc = ax2.tripcolor(triang, z, shading='gouraud')\n",
        "fig2.colorbar(tpc)\n",
        "ax2.set_title('tripcolor of Delaunay triangulation, gouraud shading')"
      ],
      "metadata": {
        "colab": {
          "base_uri": "https://localhost:8080/",
          "height": 298
        },
        "id": "sC7_AyIjO2cu",
        "outputId": "be166236-a438-4d4a-bcd4-a251aa2c6f1d"
      },
      "execution_count": null,
      "outputs": [
        {
          "output_type": "execute_result",
          "data": {
            "text/plain": [
              "Text(0.5, 1.0, 'tripcolor of Delaunay triangulation, gouraud shading')"
            ]
          },
          "metadata": {},
          "execution_count": 29
        },
        {
          "output_type": "display_data",
          "data": {
            "text/plain": [
              "<Figure size 432x288 with 2 Axes>"
            ],
            "image/png": "[encoded data removed]"
          },
          "metadata": {
            "needs_background": "light"
          }
        }
      ]
    },
    {
      "cell_type": "code",
      "source": [
        "#Delaunay Traingle "
      ],
      "metadata": {
        "id": "xU5doF1YWFEI"
      },
      "execution_count": null,
      "outputs": []
    },
    {
      "cell_type": "code",
      "source": [
        "#this triangular grid demonstrates gouraud shading "
      ],
      "metadata": {
        "id": "9YPVgvj5UjA8"
      },
      "execution_count": null,
      "outputs": []
    },
    {
      "cell_type": "code",
      "source": [
        "xy = np.asarray([\n",
        "    [-0.101, 0.872], [-0.080, 0.883], [-0.069, 0.888], [-0.054, 0.890],\n",
        "    [-0.045, 0.897], [-0.057, 0.895], [-0.073, 0.900], [-0.087, 0.898],\n",
        "    [-0.090, 0.904], [-0.069, 0.907], [-0.069, 0.921], [-0.080, 0.919],\n",
        "    [-0.073, 0.928], [-0.052, 0.930], [-0.048, 0.942], [-0.062, 0.949],\n",
        "    [-0.054, 0.958], [-0.069, 0.954], [-0.087, 0.952], [-0.087, 0.959],\n",
        "    [-0.080, 0.966], [-0.085, 0.973], [-0.087, 0.965], [-0.097, 0.965],\n",
        "    [-0.097, 0.975], [-0.092, 0.984], [-0.101, 0.980], [-0.108, 0.980],\n",
        "    [-0.104, 0.987], [-0.102, 0.993], [-0.115, 1.001], [-0.099, 0.996],\n",
        "    [-0.101, 1.007], [-0.090, 1.010], [-0.087, 1.021], [-0.069, 1.021],\n",
        "    [-0.052, 1.022], [-0.052, 1.017], [-0.069, 1.010], [-0.064, 1.005],\n",
        "    [-0.048, 1.005], [-0.031, 1.005], [-0.031, 0.996], [-0.040, 0.987],\n",
        "    [-0.045, 0.980], [-0.052, 0.975], [-0.040, 0.973], [-0.026, 0.968],\n",
        "    [-0.020, 0.954], [-0.006, 0.947], [ 0.003, 0.935], [ 0.006, 0.926],\n",
        "    [ 0.005, 0.921], [ 0.022, 0.923], [ 0.033, 0.912], [ 0.029, 0.905],\n",
        "    [ 0.017, 0.900], [ 0.012, 0.895], [ 0.027, 0.893], [ 0.019, 0.886],\n",
        "    [ 0.001, 0.883], [-0.012, 0.884], [-0.029, 0.883], [-0.038, 0.879],\n",
        "    [-0.057, 0.881], [-0.062, 0.876], [-0.078, 0.876], [-0.087, 0.872],\n",
        "    [-0.030, 0.907], [-0.007, 0.905], [-0.057, 0.916], [-0.025, 0.933],\n",
        "    [-0.077, 0.990], [-0.059, 0.993]])\n",
        "x, y = np.rad2deg(xy).T"
      ],
      "metadata": {
        "id": "3xVKXg6sPNo-"
      },
      "execution_count": null,
      "outputs": []
    },
    {
      "cell_type": "code",
      "source": [
        "triangles = np.asarray([\n",
        "    [67, 66,  1], [65,  2, 66], [ 1, 66,  2], [64,  2, 65], [63,  3, 64],\n",
        "    [60, 59, 57], [ 2, 64,  3], [ 3, 63,  4], [ 0, 67,  1], [62,  4, 63],\n",
        "    [57, 59, 56], [59, 58, 56], [61, 60, 69], [57, 69, 60], [ 4, 62, 68],\n",
        "    [ 6,  5,  9], [61, 68, 62], [69, 68, 61], [ 9,  5, 70], [ 6,  8,  7],\n",
        "    [ 4, 70,  5], [ 8,  6,  9], [56, 69, 57], [69, 56, 52], [70, 10,  9],\n",
        "    [54, 53, 55], [56, 55, 53], [68, 70,  4], [52, 56, 53], [11, 10, 12],\n",
        "    [69, 71, 68], [68, 13, 70], [10, 70, 13], [51, 50, 52], [13, 68, 71],\n",
        "    [52, 71, 69], [12, 10, 13], [71, 52, 50], [71, 14, 13], [50, 49, 71],\n",
        "    [49, 48, 71], [14, 16, 15], [14, 71, 48], [17, 19, 18], [17, 20, 19],\n",
        "    [48, 16, 14], [48, 47, 16], [47, 46, 16], [16, 46, 45], [23, 22, 24],\n",
        "    [21, 24, 22], [17, 16, 45], [20, 17, 45], [21, 25, 24], [27, 26, 28],\n",
        "    [20, 72, 21], [25, 21, 72], [45, 72, 20], [25, 28, 26], [44, 73, 45],\n",
        "    [72, 45, 73], [28, 25, 29], [29, 25, 31], [43, 73, 44], [73, 43, 40],\n",
        "    [72, 73, 39], [72, 31, 25], [42, 40, 43], [31, 30, 29], [39, 73, 40],\n",
        "    [42, 41, 40], [72, 33, 31], [32, 31, 33], [39, 38, 72], [33, 72, 38],\n",
        "    [33, 38, 34], [37, 35, 38], [34, 38, 35], [35, 37, 36]])"
      ],
      "metadata": {
        "id": "lnuT5bz-PX6C"
      },
      "execution_count": null,
      "outputs": []
    },
    {
      "cell_type": "code",
      "source": [
        "xmid = x[triangles].mean(axis=1)\n",
        "ymid = y[triangles].mean(axis=1)\n",
        "x0 = -5\n",
        "y0 = 52\n",
        "zfaces = np.exp(-0.01 * ((xmid - x0) * (xmid - x0) +\n",
        "                         (ymid - y0) * (ymid - y0)))"
      ],
      "metadata": {
        "id": "RPMlxGeyPZ3i"
      },
      "execution_count": null,
      "outputs": []
    },
    {
      "cell_type": "code",
      "source": [
        "fig3, ax3 = plt.subplots()\n",
        "ax3.set_aspect('equal')\n",
        "tpc = ax3.tripcolor(x, y, triangles, facecolors=zfaces, edgecolors='k')\n",
        "fig3.colorbar(tpc)\n",
        "ax3.set_title('tripcolor of user-specified triangulation')\n",
        "ax3.set_xlabel('Longitude (degrees)')\n",
        "ax3.set_ylabel('Latitude (degrees)')\n",
        "\n",
        "plt.show()"
      ],
      "metadata": {
        "colab": {
          "base_uri": "https://localhost:8080/",
          "height": 295
        },
        "id": "w8bu80f-Pb7P",
        "outputId": "77e352c9-b85b-4d3d-fc68-624e004a4f60"
      },
      "execution_count": null,
      "outputs": [
        {
          "output_type": "display_data",
          "data": {
            "text/plain": [
              "<Figure size 432x288 with 2 Axes>"
            ],
            "image/png": "[encoded data removed]"
          },
          "metadata": {
            "needs_background": "light"
          }
        }
      ]
    },
    {
      "cell_type": "code",
      "source": [
        "#traingle arrays are sent to tripcolor "
      ],
      "metadata": {
        "id": "T9hCuVo5QFTq"
      },
      "execution_count": null,
      "outputs": []
    },
    {
      "cell_type": "code",
      "source": [],
      "metadata": {
        "id": "6P7m4OunWShB"
      },
      "execution_count": null,
      "outputs": []
    }
  ]
}