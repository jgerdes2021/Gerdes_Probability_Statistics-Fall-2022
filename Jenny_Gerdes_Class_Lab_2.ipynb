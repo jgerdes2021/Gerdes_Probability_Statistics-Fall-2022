{
  "nbformat": 4,
  "nbformat_minor": 0,
  "metadata": {
    "colab": {
      "provenance": [],
      "authorship_tag": "ABX9TyO1I4t3xr969CgpYBGa6pho",
      "include_colab_link": true
    },
    "kernelspec": {
      "name": "python3",
      "display_name": "Python 3"
    },
    "language_info": {
      "name": "python"
    }
  },
  "cells": [
    {
      "cell_type": "markdown",
      "metadata": {
        "id": "view-in-github",
        "colab_type": "text"
      },
      "source": [
        "<a href=\"https://colab.research.google.com/github/jgerdes2021/Gerdes_Probability_Statistics-Fall-2022/blob/main/Jenny_Gerdes_Class_Lab_2.ipynb\" target=\"_parent\"><img src=\"https://colab.research.google.com/assets/colab-badge.svg\" alt=\"Open In Colab\"/></a>"
      ]
    },
    {
      "cell_type": "markdown",
      "source": [
        "# Stats Notebook Lab #2"
      ],
      "metadata": {
        "id": "Zi1UWydt4Wfe"
      }
    },
    {
      "cell_type": "code",
      "execution_count": 1,
      "metadata": {
        "colab": {
          "base_uri": "https://localhost:8080/",
          "height": 317
        },
        "id": "aMdKPyST1cT_",
        "outputId": "b663e3d9-5950-434a-81b1-d0bc12f1c951"
      },
      "outputs": [
        {
          "output_type": "execute_result",
          "data": {
            "text/plain": [
              "(-1.2142507666786346,\n",
              " 1.134711077927507,\n",
              " -1.1258468317413044,\n",
              " 1.101230806657754)"
            ]
          },
          "metadata": {},
          "execution_count": 1
        },
        {
          "output_type": "display_data",
          "data": {
            "text/plain": [
              "<Figure size 432x288 with 1 Axes>"
            ],
            "image/png": "[encoded data removed]"
          },
          "metadata": {}
        }
      ],
      "source": [
        "import matplotlib.pyplot as plt\n",
        "\n",
        "labels = ['Frogs', 'Dogs', 'Cats', 'Birds']\n",
        "\n",
        "sizes = [15,30,45,10]\n",
        "\n",
        "explode = (0,0.1,0,0)\n",
        "\n",
        "fig1,ax1 = plt.subplots()\n",
        "ax1.pie(sizes, explode=explode, labels=labels, autopct = '%1.1f%%', shadow=True, startangle=90)\n",
        "ax1.axis('equal')"
      ]
    },
    {
      "cell_type": "code",
      "source": [
        "#creates a pie chart"
      ],
      "metadata": {
        "id": "WQebF_8b7qvt"
      },
      "execution_count": 50,
      "outputs": []
    },
    {
      "cell_type": "code",
      "source": [
        "name = 'William'"
      ],
      "metadata": {
        "id": "6JNIdagN1up-"
      },
      "execution_count": 3,
      "outputs": []
    },
    {
      "cell_type": "code",
      "source": [
        "name"
      ],
      "metadata": {
        "colab": {
          "base_uri": "https://localhost:8080/",
          "height": 35
        },
        "id": "xd-8d0JN5Qmy",
        "outputId": "00266e3d-062a-4a48-801b-5e2b4c133842"
      },
      "execution_count": 4,
      "outputs": [
        {
          "output_type": "execute_result",
          "data": {
            "text/plain": [
              "'William'"
            ],
            "application/vnd.google.colaboratory.intrinsic+json": {
              "type": "string"
            }
          },
          "metadata": {},
          "execution_count": 4
        }
      ]
    },
    {
      "cell_type": "code",
      "source": [
        "f\"Hello my name is {name}\""
      ],
      "metadata": {
        "colab": {
          "base_uri": "https://localhost:8080/",
          "height": 35
        },
        "id": "AUU2eYKX5Rsa",
        "outputId": "0456bf79-8d09-45a5-cfc7-028b98ac58d9"
      },
      "execution_count": 5,
      "outputs": [
        {
          "output_type": "execute_result",
          "data": {
            "text/plain": [
              "'Hello my name is William'"
            ],
            "application/vnd.google.colaboratory.intrinsic+json": {
              "type": "string"
            }
          },
          "metadata": {},
          "execution_count": 5
        }
      ]
    },
    {
      "cell_type": "markdown",
      "source": [
        "# Files"
      ],
      "metadata": {
        "id": "-01KOrJo5mIb"
      }
    },
    {
      "cell_type": "code",
      "source": [
        "f = open(\"Hello.txt\", 'w')\n",
        "\n",
        "data = \"Hello World\"\n",
        "\n",
        "print(data, file = f)\n",
        "\n",
        "f.close()"
      ],
      "metadata": {
        "id": "HCXK-dKw5qRJ"
      },
      "execution_count": 6,
      "outputs": []
    },
    {
      "cell_type": "code",
      "source": [
        "#You can add text "
      ],
      "metadata": {
        "id": "9wWa7OJ5yhyD"
      },
      "execution_count": 37,
      "outputs": []
    },
    {
      "cell_type": "code",
      "source": [
        "f = open(\"Hello.txt\", 'w')\n",
        "\n",
        "name = 'William'\n",
        "\n",
        "data = f\"Hello {name}\"\n",
        "\n",
        "print(data, file = f)\n",
        "\n",
        "f.close()"
      ],
      "metadata": {
        "id": "DPkaVd7R6FQn"
      },
      "execution_count": 7,
      "outputs": []
    },
    {
      "cell_type": "code",
      "source": [
        "f = open(\"Hello.txt\", 'r')\n",
        "\n",
        "lines = f.readlines()\n",
        "\n",
        "print(lines)\n",
        "\n",
        "f.close()"
      ],
      "metadata": {
        "colab": {
          "base_uri": "https://localhost:8080/"
        },
        "id": "5ezHTnur6ks8",
        "outputId": "0df71468-734d-4bf5-9a3c-78a6f9f8faae"
      },
      "execution_count": 8,
      "outputs": [
        {
          "output_type": "stream",
          "name": "stdout",
          "text": [
            "['Hello William\\n']\n"
          ]
        }
      ]
    },
    {
      "cell_type": "markdown",
      "source": [
        "# Coin Flip"
      ],
      "metadata": {
        "id": "SbnQF58T8TSu"
      }
    },
    {
      "cell_type": "code",
      "source": [
        "import numpy as np"
      ],
      "metadata": {
        "id": "REQcwY9b8Vce"
      },
      "execution_count": 9,
      "outputs": []
    },
    {
      "cell_type": "code",
      "source": [
        "np.random.random()"
      ],
      "metadata": {
        "colab": {
          "base_uri": "https://localhost:8080/"
        },
        "id": "ogvh2SEC8Xxe",
        "outputId": "46c79061-a44a-4eaa-f2ab-1e250d3274bf"
      },
      "execution_count": 10,
      "outputs": [
        {
          "output_type": "execute_result",
          "data": {
            "text/plain": [
              "0.8646093250889583"
            ]
          },
          "metadata": {},
          "execution_count": 10
        }
      ]
    },
    {
      "cell_type": "code",
      "source": [
        "#By typing random.random, it will show random numbers "
      ],
      "metadata": {
        "id": "5ZUnwKwtyrpr"
      },
      "execution_count": 38,
      "outputs": []
    },
    {
      "cell_type": "code",
      "source": [
        "for index in range(10):\n",
        "  print(index, np.random.random())"
      ],
      "metadata": {
        "colab": {
          "base_uri": "https://localhost:8080/"
        },
        "id": "cattnsus8n--",
        "outputId": "606bcf25-e744-4f3e-8964-00b200e11f27"
      },
      "execution_count": 11,
      "outputs": [
        {
          "output_type": "stream",
          "name": "stdout",
          "text": [
            "0 0.7784359581211855\n",
            "1 0.1336957288899724\n",
            "2 0.8350020430077806\n",
            "3 0.02233662308255613\n",
            "4 0.4573802929739894\n",
            "5 0.27160695258522094\n",
            "6 0.8001701967890471\n",
            "7 0.9290465662955736\n",
            "8 0.5405850854220133\n",
            "9 0.4253459665369056\n"
          ]
        }
      ]
    },
    {
      "cell_type": "code",
      "source": [
        "for i in range(10):\n",
        "  print(i, np.random.random())"
      ],
      "metadata": {
        "colab": {
          "base_uri": "https://localhost:8080/"
        },
        "id": "bbdZwzAF81UX",
        "outputId": "7f02ca68-af1d-49d7-a882-d3fe9ce1bc0c"
      },
      "execution_count": 12,
      "outputs": [
        {
          "output_type": "stream",
          "name": "stdout",
          "text": [
            "0 0.5958423930599303\n",
            "1 0.6973001029628847\n",
            "2 0.4277871062397186\n",
            "3 0.437743861418485\n",
            "4 0.16743350401972112\n",
            "5 0.573646263061145\n",
            "6 0.25405857095609086\n",
            "7 0.35038379910898887\n",
            "8 0.6682619036357946\n",
            "9 0.815141786169566\n"
          ]
        }
      ]
    },
    {
      "cell_type": "code",
      "source": [
        "for j in range(10):\n",
        "  print(j, np.random.random())"
      ],
      "metadata": {
        "colab": {
          "base_uri": "https://localhost:8080/"
        },
        "id": "amZ3ke949VlP",
        "outputId": "5fdfe253-ddfe-4a68-b48c-18d05eaad0c4"
      },
      "execution_count": 13,
      "outputs": [
        {
          "output_type": "stream",
          "name": "stdout",
          "text": [
            "0 0.4590650669086841\n",
            "1 0.03730992862788818\n",
            "2 0.37398679864430895\n",
            "3 0.03198499759931117\n",
            "4 0.023177893635779823\n",
            "5 0.007224122868170868\n",
            "6 0.23807199388462907\n",
            "7 0.9797091035274483\n",
            "8 0.03996102555328174\n",
            "9 0.0868177788552491\n"
          ]
        }
      ]
    },
    {
      "cell_type": "code",
      "source": [
        "for apple in range(10):\n",
        "  print(apple, np.random.random())"
      ],
      "metadata": {
        "colab": {
          "base_uri": "https://localhost:8080/"
        },
        "id": "s9mYRrvg9vXw",
        "outputId": "13123683-2cb3-423a-f5a9-70d78bdaf9fe"
      },
      "execution_count": 14,
      "outputs": [
        {
          "output_type": "stream",
          "name": "stdout",
          "text": [
            "0 0.4097367928730099\n",
            "1 0.5932123064591281\n",
            "2 0.47950743884620284\n",
            "3 0.6515851025372656\n",
            "4 0.8385314192864122\n",
            "5 0.9508971484146672\n",
            "6 0.3037699007391437\n",
            "7 0.24466646045655183\n",
            "8 0.13971473460503525\n",
            "9 0.8317734773267565\n"
          ]
        }
      ]
    },
    {
      "cell_type": "code",
      "source": [
        "for step in range(10):\n",
        "  print(step, \"Hello, your number is:\", np.random.random())"
      ],
      "metadata": {
        "colab": {
          "base_uri": "https://localhost:8080/"
        },
        "id": "2Qvxj--t9yof",
        "outputId": "afd931cd-89c9-4104-dba3-7ede210bb936"
      },
      "execution_count": 15,
      "outputs": [
        {
          "output_type": "stream",
          "name": "stdout",
          "text": [
            "0 Hello, your number is: 0.6883126423352309\n",
            "1 Hello, your number is: 0.6351456972036058\n",
            "2 Hello, your number is: 0.784430262211103\n",
            "3 Hello, your number is: 0.5656830353953985\n",
            "4 Hello, your number is: 0.3863501712824158\n",
            "5 Hello, your number is: 0.13594704588132067\n",
            "6 Hello, your number is: 0.17601320697690392\n",
            "7 Hello, your number is: 0.9358274838733066\n",
            "8 Hello, your number is: 0.43617653392240474\n",
            "9 Hello, your number is: 0.5462541221932274\n"
          ]
        }
      ]
    },
    {
      "cell_type": "code",
      "source": [
        "#You can include text before the numbers"
      ],
      "metadata": {
        "id": "cn4Css1N3gat"
      },
      "execution_count": 51,
      "outputs": []
    },
    {
      "cell_type": "code",
      "source": [
        "np.random.random()"
      ],
      "metadata": {
        "colab": {
          "base_uri": "https://localhost:8080/"
        },
        "id": "bYWUy1CD9785",
        "outputId": "b49c4844-2fb2-489d-e088-97d40bbf1aa9"
      },
      "execution_count": 16,
      "outputs": [
        {
          "output_type": "execute_result",
          "data": {
            "text/plain": [
              "0.5489926476352781"
            ]
          },
          "metadata": {},
          "execution_count": 16
        }
      ]
    },
    {
      "cell_type": "code",
      "source": [
        "np.random.random() > 0.5 "
      ],
      "metadata": {
        "colab": {
          "base_uri": "https://localhost:8080/"
        },
        "id": "4QJ52oLh-RMQ",
        "outputId": "266db047-b36d-4143-f3d6-91f651da7eac"
      },
      "execution_count": 17,
      "outputs": [
        {
          "output_type": "execute_result",
          "data": {
            "text/plain": [
              "True"
            ]
          },
          "metadata": {},
          "execution_count": 17
        }
      ]
    },
    {
      "cell_type": "code",
      "source": [
        "for flip in range(10): \n",
        "  print(np.random.random() > 0.5)"
      ],
      "metadata": {
        "colab": {
          "base_uri": "https://localhost:8080/"
        },
        "id": "1_9wE5E5-ZYP",
        "outputId": "2b48c599-5f6e-47f1-d6d0-1692581a4338"
      },
      "execution_count": 18,
      "outputs": [
        {
          "output_type": "stream",
          "name": "stdout",
          "text": [
            "False\n",
            "True\n",
            "False\n",
            "False\n",
            "False\n",
            "False\n",
            "False\n",
            "True\n",
            "True\n",
            "False\n"
          ]
        }
      ]
    },
    {
      "cell_type": "code",
      "source": [
        "#It will tell you true or false"
      ],
      "metadata": {
        "id": "Sk7Jvn2-zGCJ"
      },
      "execution_count": 39,
      "outputs": []
    },
    {
      "cell_type": "code",
      "source": [
        "for flip in range(10): \n",
        "  coin = np.random.random() > 0.5\n",
        "  if coin == True: \n",
        "    print(\"Heads\")\n",
        "  else: \n",
        "      print(\"Tails\")"
      ],
      "metadata": {
        "colab": {
          "base_uri": "https://localhost:8080/"
        },
        "id": "zXs0kAB4-iQ_",
        "outputId": "b6657143-4c04-40f2-a51d-c957fd2b5353"
      },
      "execution_count": 19,
      "outputs": [
        {
          "output_type": "stream",
          "name": "stdout",
          "text": [
            "Tails\n",
            "Tails\n",
            "Heads\n",
            "Heads\n",
            "Tails\n",
            "Heads\n",
            "Tails\n",
            "Heads\n",
            "Heads\n",
            "Heads\n"
          ]
        }
      ]
    },
    {
      "cell_type": "code",
      "source": [
        "#It will flip the coint and tell you heads or tails"
      ],
      "metadata": {
        "id": "7I1aFoozzgHk"
      },
      "execution_count": 41,
      "outputs": []
    },
    {
      "cell_type": "markdown",
      "source": [
        "# Functions"
      ],
      "metadata": {
        "id": "eb8W83t9Azkd"
      }
    },
    {
      "cell_type": "code",
      "source": [
        "def flip_coin(): \n",
        "  coin = np.random.random() > 0.5\n",
        "  if coin == True: \n",
        "    print(\"Heads\")\n",
        "  else: \n",
        "    print(\"Tails\")\n"
      ],
      "metadata": {
        "id": "qzDWIlqrA8Xk"
      },
      "execution_count": 20,
      "outputs": []
    },
    {
      "cell_type": "code",
      "source": [
        "flip_coin()"
      ],
      "metadata": {
        "colab": {
          "base_uri": "https://localhost:8080/"
        },
        "id": "AlKQOSt6BG7U",
        "outputId": "798f7162-08ac-4e18-b02a-470436b5344b"
      },
      "execution_count": 21,
      "outputs": [
        {
          "output_type": "stream",
          "name": "stdout",
          "text": [
            "Heads\n"
          ]
        }
      ]
    },
    {
      "cell_type": "code",
      "source": [
        "for i in range (10): \n",
        "    flip_coin()"
      ],
      "metadata": {
        "colab": {
          "base_uri": "https://localhost:8080/"
        },
        "id": "gB62CrpABLK0",
        "outputId": "475d9ef8-486d-46f9-e46d-bff8d9c97bfa"
      },
      "execution_count": 22,
      "outputs": [
        {
          "output_type": "stream",
          "name": "stdout",
          "text": [
            "Tails\n",
            "Tails\n",
            "Tails\n",
            "Tails\n",
            "Heads\n",
            "Tails\n",
            "Tails\n",
            "Heads\n",
            "Heads\n",
            "Tails\n"
          ]
        }
      ]
    },
    {
      "cell_type": "markdown",
      "source": [
        "# Graphics"
      ],
      "metadata": {
        "id": "qPVvYqSRCeR2"
      }
    },
    {
      "cell_type": "code",
      "source": [
        "from IPython.core.display import display, HTML"
      ],
      "metadata": {
        "id": "MFQFZ9yVCgnW"
      },
      "execution_count": 23,
      "outputs": []
    },
    {
      "cell_type": "code",
      "source": [
        "display (HTML('<h1>Hello World</h1>'))"
      ],
      "metadata": {
        "colab": {
          "base_uri": "https://localhost:8080/",
          "height": 74
        },
        "id": "hXSO3mCsCpDV",
        "outputId": "bc1f3007-5883-4500-9184-89c9ccc414ce"
      },
      "execution_count": 24,
      "outputs": [
        {
          "output_type": "display_data",
          "data": {
            "text/plain": [
              "<IPython.core.display.HTML object>"
            ],
            "text/html": [
              "<h1>Hello World</h1>"
            ]
          },
          "metadata": {}
        }
      ]
    },
    {
      "cell_type": "code",
      "source": [
        "#You can display text"
      ],
      "metadata": {
        "id": "MfZaFVcvzoXk"
      },
      "execution_count": 52,
      "outputs": []
    },
    {
      "cell_type": "code",
      "source": [
        "coin_heads_url = \"https://i.ebayimg.com/images/g/xtcAAOSwLwBaZigS/s-l400.jpg\""
      ],
      "metadata": {
        "id": "-6O107rZC1Hk"
      },
      "execution_count": 25,
      "outputs": []
    },
    {
      "cell_type": "code",
      "source": [
        "#You can copy the image of a coin on heads from the internet"
      ],
      "metadata": {
        "id": "6fw_6vR2z0V8"
      },
      "execution_count": 43,
      "outputs": []
    },
    {
      "cell_type": "code",
      "source": [
        "coin_tails_url = \"https://m.media-amazon.com/images/I/51bcZy+HZpL._AC_.jpg\""
      ],
      "metadata": {
        "id": "7ReM-L4ZDZbQ"
      },
      "execution_count": 26,
      "outputs": []
    },
    {
      "cell_type": "code",
      "source": [
        "#You can copy the image of a coin on tails from the internet"
      ],
      "metadata": {
        "id": "32YftfGI0Dhw"
      },
      "execution_count": 44,
      "outputs": []
    },
    {
      "cell_type": "code",
      "source": [
        "display(HTML('<img src =\"https://i.ebayimg.com/images/g/xtcAAOSwLwBaZigS/s-l400.jpg\">'))"
      ],
      "metadata": {
        "colab": {
          "base_uri": "https://localhost:8080/",
          "height": 421
        },
        "id": "6atrKLT5DcwQ",
        "outputId": "98d449c3-d1d5-4156-c999-7b328ee9cc4a"
      },
      "execution_count": 27,
      "outputs": [
        {
          "output_type": "display_data",
          "data": {
            "text/plain": [
              "<IPython.core.display.HTML object>"
            ],
            "text/html": [
              "<img src =\"https://i.ebayimg.com/images/g/xtcAAOSwLwBaZigS/s-l400.jpg\">"
            ]
          },
          "metadata": {}
        }
      ]
    },
    {
      "cell_type": "code",
      "source": [
        "#It displays the image of heads"
      ],
      "metadata": {
        "id": "R0X9toHY0JX4"
      },
      "execution_count": 47,
      "outputs": []
    },
    {
      "cell_type": "code",
      "source": [
        "display(HTML('<img src =\"https://m.media-amazon.com/images/I/51bcZy+HZpL._AC_.jpg\">'))"
      ],
      "metadata": {
        "colab": {
          "base_uri": "https://localhost:8080/",
          "height": 317
        },
        "id": "XFqTP-sUD2l5",
        "outputId": "d0fafc1a-9143-423d-cd21-a346a750de69"
      },
      "execution_count": 28,
      "outputs": [
        {
          "output_type": "display_data",
          "data": {
            "text/plain": [
              "<IPython.core.display.HTML object>"
            ],
            "text/html": [
              "<img src =\"https://m.media-amazon.com/images/I/51bcZy+HZpL._AC_.jpg\">"
            ]
          },
          "metadata": {}
        }
      ]
    },
    {
      "cell_type": "code",
      "source": [
        "#It diplays the image of tails"
      ],
      "metadata": {
        "id": "Wro3sPgq0Nrl"
      },
      "execution_count": 48,
      "outputs": []
    },
    {
      "cell_type": "code",
      "source": [
        "coin_heads_url = \"https://i.ebayimg.com/images/g/xtcAAOSwLwBaZigS/s-l400.jpg\""
      ],
      "metadata": {
        "id": "I8wW1X1ZGdjr"
      },
      "execution_count": 29,
      "outputs": []
    },
    {
      "cell_type": "code",
      "source": [
        "coin_tails_url = \"https://m.media-amazon.com/images/I/51bcZy+HZpL._AC_.jpg\""
      ],
      "metadata": {
        "id": "JPOpATXQGgko"
      },
      "execution_count": 30,
      "outputs": []
    },
    {
      "cell_type": "code",
      "source": [
        "heads = 'https://random-ize.com/coin-flip/us-quarter/us-quarter-front.jpg'\n",
        "tails = 'https://random-ize.com/coin-flip/us-quarter/us-quarter-back.jpg'"
      ],
      "metadata": {
        "id": "SOW7ZWpLFTJZ"
      },
      "execution_count": 33,
      "outputs": []
    },
    {
      "cell_type": "code",
      "source": [
        "def show_img(img):\n",
        "  display(HTML('<img src=' + img + '>'))"
      ],
      "metadata": {
        "id": "THzSedfYGz9C"
      },
      "execution_count": 34,
      "outputs": []
    },
    {
      "cell_type": "code",
      "source": [
        "show_img(heads)"
      ],
      "metadata": {
        "id": "Fqn21ADSG2W7",
        "outputId": "fb0e2b55-4f05-4fd2-ae16-a62da22922fd",
        "colab": {
          "base_uri": "https://localhost:8080/",
          "height": 221
        }
      },
      "execution_count": 35,
      "outputs": [
        {
          "output_type": "display_data",
          "data": {
            "text/plain": [
              "<IPython.core.display.HTML object>"
            ],
            "text/html": [
              "<img src=https://random-ize.com/coin-flip/us-quarter/us-quarter-front.jpg>"
            ]
          },
          "metadata": {}
        }
      ]
    },
    {
      "cell_type": "code",
      "source": [
        "#You can resize the image of the coin"
      ],
      "metadata": {
        "id": "0WIWTV0p0myw"
      },
      "execution_count": 49,
      "outputs": []
    },
    {
      "cell_type": "code",
      "source": [
        "show_img(tails)"
      ],
      "metadata": {
        "id": "JfwELfVKG4e7",
        "outputId": "4b80e3cf-7799-4ac3-eaee-956ee5380fd6",
        "colab": {
          "base_uri": "https://localhost:8080/",
          "height": 221
        }
      },
      "execution_count": 36,
      "outputs": [
        {
          "output_type": "display_data",
          "data": {
            "text/plain": [
              "<IPython.core.display.HTML object>"
            ],
            "text/html": [
              "<img src=https://random-ize.com/coin-flip/us-quarter/us-quarter-back.jpg>"
            ]
          },
          "metadata": {}
        }
      ]
    },
    {
      "cell_type": "code",
      "source": [],
      "metadata": {
        "id": "tLNKxP6xG7Bs"
      },
      "execution_count": 36,
      "outputs": []
    }
  ]
}